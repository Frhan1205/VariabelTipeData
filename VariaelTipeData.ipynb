{
 "cells": [
  {
   "cell_type": "markdown",
   "id": "24d31103",
   "metadata": {},
   "source": [
    "<h1>Variabel dan Tipe Data Python<h1><hr>\n",
    "<font color=\"red\">Beberapa</font> aturan pembuatan variabel di <b>python</b>"
   ]
  },
  {
   "cell_type": "markdown",
   "id": "38d119e0",
   "metadata": {},
   "source": [
    "<ol>\n",
    "    <li>Bersifat case sensitif => A !=a</li>\n",
    "    <li>harus diawali dengan huruf atau karakter _(underscore)</li>\n",
    "    <li>Tidak boleh menggunakan spasi</li>\n",
    "    <li>Boleh menggunakan angka</li>\n",
    "</ol>"
   ]
  },
  {
   "cell_type": "code",
   "execution_count": 2,
   "id": "4cb06151",
   "metadata": {},
   "outputs": [
    {
     "name": "stdout",
     "output_type": "stream",
     "text": [
      "10\n",
      "100.9\n",
      "1\n",
      "True\n",
      "2.9\n"
     ]
    }
   ],
   "source": [
    "data_int = 10\n",
    "data_float = 100.9\n",
    "data_string ='1'\n",
    "data_bool = True\n",
    "data_double = 2.9\n",
    "\n",
    "print(data_int)\n",
    "print(data_float)\n",
    "print(data_string)\n",
    "print(data_bool)\n",
    "print(data_double)"
   ]
  },
  {
   "cell_type": "markdown",
   "id": "cad3b123",
   "metadata": {},
   "source": [
    "Untuk mengetahui tipe data dari sebuah variabel gunakan command <b>type</b>"
   ]
  },
  {
   "cell_type": "code",
   "execution_count": 3,
   "id": "b0282f81",
   "metadata": {},
   "outputs": [
    {
     "name": "stdout",
     "output_type": "stream",
     "text": [
      "<class 'int'>\n",
      "<class 'float'>\n",
      "<class 'str'>\n",
      "<class 'bool'>\n",
      "<class 'float'>\n"
     ]
    }
   ],
   "source": [
    "print(type(data_int))\n",
    "print(type(data_float))\n",
    "print(type(data_string))\n",
    "print(type(data_bool))\n",
    "print(type(data_double))\n",
    "\n"
   ]
  },
  {
   "cell_type": "markdown",
   "id": "356985ab",
   "metadata": {},
   "source": [
    "Pada python terdapat proses <b>CASTING</b> yaitu konversi dari sebuah tipe data ke tipe data yang lain yaitu dengan sintaks <b>tipe_data(nama_variabel)</b>"
   ]
  },
  {
   "cell_type": "code",
   "execution_count": 4,
   "id": "b7084969",
   "metadata": {},
   "outputs": [
    {
     "name": "stdout",
     "output_type": "stream",
     "text": [
      "Nilai variabel data_int 10\n",
      "10.0\n",
      "10\n",
      "True\n"
     ]
    }
   ],
   "source": [
    "int_to_float = float(data_int)\n",
    "int_to_string = str(data_int)\n",
    "int_to_bool = bool(data_int)\n",
    "\n",
    "print(\"Nilai variabel data_int\",data_int)\n",
    "print(int_to_float)\n",
    "print(int_to_string)\n",
    "print(int_to_bool)\n",
    "\n"
   ]
  },
  {
   "cell_type": "code",
   "execution_count": 5,
   "id": "357db1a8",
   "metadata": {},
   "outputs": [
    {
     "name": "stdout",
     "output_type": "stream",
     "text": [
      "Nilai variabel data_float 100.9\n",
      "100\n",
      "100.9\n",
      "True\n"
     ]
    }
   ],
   "source": [
    "float_to_int = int(data_float)\n",
    "float_to_string = str(data_float)\n",
    "float_to_bool = bool(data_float)\n",
    "\n",
    "print(\"Nilai variabel data_float\",data_float)\n",
    "print(float_to_int)\n",
    "print(float_to_string)\n",
    "print(float_to_bool)"
   ]
  },
  {
   "cell_type": "code",
   "execution_count": 6,
   "id": "f2c8a5ec",
   "metadata": {},
   "outputs": [
    {
     "name": "stdout",
     "output_type": "stream",
     "text": [
      "Nilai variabel data_string 1\n",
      "1\n",
      "1.0\n",
      "True\n"
     ]
    }
   ],
   "source": [
    "str_to_int = int(data_string)\n",
    "str_to_float = float(data_string)\n",
    "str_to_bool = bool(data_string)\n",
    "\n",
    "print(\"Nilai variabel data_string\",data_string)\n",
    "print(str_to_int)\n",
    "print(str_to_float)\n",
    "print(str_to_bool)"
   ]
  },
  {
   "cell_type": "code",
   "execution_count": 7,
   "id": "964ab97b",
   "metadata": {},
   "outputs": [
    {
     "name": "stdout",
     "output_type": "stream",
     "text": [
      "Nilai variabel data_bool True\n",
      "1\n",
      "1.0\n",
      "True\n"
     ]
    }
   ],
   "source": [
    "bool_to_int = int(data_bool)\n",
    "bool_to_float = float(data_bool)\n",
    "bool_to_string = str(data_bool)\n",
    "\n",
    "print(\"Nilai variabel data_bool\",data_bool)\n",
    "print(bool_to_int)\n",
    "print(bool_to_float)\n",
    "print(bool_to_string)"
   ]
  },
  {
   "cell_type": "code",
   "execution_count": 8,
   "id": "356fe099",
   "metadata": {},
   "outputs": [
    {
     "name": "stdout",
     "output_type": "stream",
     "text": [
      "Isikan Bilangan 1 = 999999999\n",
      "Isikan Bilangan 2 = 9999999999\n",
      "Hasil penjumlahan =  10999999998\n",
      "Hasil pembagian =  0.09999999991\n",
      "Hasil perkalian =  9999999989000000001\n",
      "Hasil pengurangan =  -9000000000\n"
     ]
    }
   ],
   "source": [
    "bil1 = int(input(\"Isikan Bilangan 1 = \"))\n",
    "bil2 = int(input(\"Isikan Bilangan 2 = \"))\n",
    "hasil_tambah = bil1+bil2\n",
    "hasil_bagi = bil1/bil2\n",
    "hasil_perkalian = bil1*bil2\n",
    "hasil_pengurangan = bil1-bil2\n",
    "print(\"Hasil penjumlahan = \",hasil_tambah)\n",
    "print(\"Hasil pembagian = \",hasil_bagi)\n",
    "print(\"Hasil perkalian = \",hasil_perkalian)\n",
    "print(\"Hasil pengurangan = \",hasil_pengurangan)"
   ]
  }
 ],
 "metadata": {
  "kernelspec": {
   "display_name": "Python 3 (ipykernel)",
   "language": "python",
   "name": "python3"
  },
  "language_info": {
   "codemirror_mode": {
    "name": "ipython",
    "version": 3
   },
   "file_extension": ".py",
   "mimetype": "text/x-python",
   "name": "python",
   "nbconvert_exporter": "python",
   "pygments_lexer": "ipython3",
   "version": "3.9.12"
  }
 },
 "nbformat": 4,
 "nbformat_minor": 5
}
